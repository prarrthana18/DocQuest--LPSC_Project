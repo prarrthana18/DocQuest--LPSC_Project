{
  "cells": [
    {
      "cell_type": "code",
      "execution_count": null,
      "metadata": {
        "colab": {
          "base_uri": "https://localhost:8080/"
        },
        "id": "j3JsNS_Xa4be",
        "outputId": "578102cc-1ed0-4804-b9a9-99b312b0467f"
      },
      "outputs": [
        {
          "output_type": "stream",
          "name": "stdout",
          "text": [
            "\u001b[2K   \u001b[90m━━━━━━━━━━━━━━━━━━━━━━━━━━━━━━━━━━━━━━━━\u001b[0m \u001b[32m8.7/8.7 MB\u001b[0m \u001b[31m38.6 MB/s\u001b[0m eta \u001b[36m0:00:00\u001b[0m\n",
            "\u001b[2K   \u001b[90m━━━━━━━━━━━━━━━━━━━━━━━━━━━━━━━━━━━━━━━━\u001b[0m \u001b[32m207.3/207.3 kB\u001b[0m \u001b[31m12.4 MB/s\u001b[0m eta \u001b[36m0:00:00\u001b[0m\n",
            "\u001b[2K   \u001b[90m━━━━━━━━━━━━━━━━━━━━━━━━━━━━━━━━━━━━━━━━\u001b[0m \u001b[32m6.9/6.9 MB\u001b[0m \u001b[31m86.0 MB/s\u001b[0m eta \u001b[36m0:00:00\u001b[0m\n",
            "\u001b[2K   \u001b[90m━━━━━━━━━━━━━━━━━━━━━━━━━━━━━━━━━━━━━━━━\u001b[0m \u001b[32m82.9/82.9 kB\u001b[0m \u001b[31m5.2 MB/s\u001b[0m eta \u001b[36m0:00:00\u001b[0m\n",
            "\u001b[2K   \u001b[90m━━━━━━━━━━━━━━━━━━━━━━━━━━━━━━━━━━━━━━━━\u001b[0m \u001b[32m62.7/62.7 kB\u001b[0m \u001b[31m3.6 MB/s\u001b[0m eta \u001b[36m0:00:00\u001b[0m\n",
            "\u001b[?25h"
          ]
        }
      ],
      "source": [
        "!pip install streamlit -q"
      ]
    },
    {
      "cell_type": "code",
      "execution_count": null,
      "metadata": {
        "colab": {
          "base_uri": "https://localhost:8080/"
        },
        "id": "PyWvNfdYiRVh",
        "outputId": "10eb146d-186b-4384-fa11-cd65b5df0afc"
      },
      "outputs": [
        {
          "output_type": "stream",
          "name": "stdout",
          "text": [
            "\u001b[?25l   \u001b[90m━━━━━━━━━━━━━━━━━━━━━━━━━━━━━━━━━━━━━━━━\u001b[0m \u001b[32m0.0/227.1 kB\u001b[0m \u001b[31m?\u001b[0m eta \u001b[36m-:--:--\u001b[0m\r\u001b[2K   \u001b[91m━━━━━━━━━━━━━━━━━━━━━━━━━━━━━━━━━━━━━━━\u001b[0m\u001b[91m╸\u001b[0m \u001b[32m225.3/227.1 kB\u001b[0m \u001b[31m7.2 MB/s\u001b[0m eta \u001b[36m0:00:01\u001b[0m\r\u001b[2K   \u001b[90m━━━━━━━━━━━━━━━━━━━━━━━━━━━━━━━━━━━━━━━━\u001b[0m \u001b[32m227.1/227.1 kB\u001b[0m \u001b[31m4.9 MB/s\u001b[0m eta \u001b[36m0:00:00\u001b[0m\n",
            "\u001b[?25h"
          ]
        }
      ],
      "source": [
        "!pip install sentence_transformers -q"
      ]
    },
    {
      "cell_type": "code",
      "execution_count": null,
      "metadata": {
        "colab": {
          "base_uri": "https://localhost:8080/"
        },
        "id": "bMrmKfQhiyCY",
        "outputId": "ee890300-c5d6-4702-fb3f-31dd5bc505ca"
      },
      "outputs": [
        {
          "output_type": "stream",
          "name": "stdout",
          "text": [
            "\u001b[2K     \u001b[90m━━━━━━━━━━━━━━━━━━━━━━━━━━━━━━━━━━━━━━━━\u001b[0m \u001b[32m50.4/50.4 kB\u001b[0m \u001b[31m2.2 MB/s\u001b[0m eta \u001b[36m0:00:00\u001b[0m\n",
            "\u001b[2K   \u001b[90m━━━━━━━━━━━━━━━━━━━━━━━━━━━━━━━━━━━━━━━━\u001b[0m \u001b[32m997.8/997.8 kB\u001b[0m \u001b[31m17.1 MB/s\u001b[0m eta \u001b[36m0:00:00\u001b[0m\n",
            "\u001b[2K   \u001b[90m━━━━━━━━━━━━━━━━━━━━━━━━━━━━━━━━━━━━━━━━\u001b[0m \u001b[32m393.9/393.9 kB\u001b[0m \u001b[31m22.2 MB/s\u001b[0m eta \u001b[36m0:00:00\u001b[0m\n",
            "\u001b[2K   \u001b[90m━━━━━━━━━━━━━━━━━━━━━━━━━━━━━━━━━━━━━━━━\u001b[0m \u001b[32m148.9/148.9 kB\u001b[0m \u001b[31m10.6 MB/s\u001b[0m eta \u001b[36m0:00:00\u001b[0m\n",
            "\u001b[2K   \u001b[90m━━━━━━━━━━━━━━━━━━━━━━━━━━━━━━━━━━━━━━━━\u001b[0m \u001b[32m75.6/75.6 kB\u001b[0m \u001b[31m5.1 MB/s\u001b[0m eta \u001b[36m0:00:00\u001b[0m\n",
            "\u001b[2K   \u001b[90m━━━━━━━━━━━━━━━━━━━━━━━━━━━━━━━━━━━━━━━━\u001b[0m \u001b[32m77.9/77.9 kB\u001b[0m \u001b[31m4.9 MB/s\u001b[0m eta \u001b[36m0:00:00\u001b[0m\n",
            "\u001b[2K   \u001b[90m━━━━━━━━━━━━━━━━━━━━━━━━━━━━━━━━━━━━━━━━\u001b[0m \u001b[32m141.9/141.9 kB\u001b[0m \u001b[31m9.4 MB/s\u001b[0m eta \u001b[36m0:00:00\u001b[0m\n",
            "\u001b[2K   \u001b[90m━━━━━━━━━━━━━━━━━━━━━━━━━━━━━━━━━━━━━━━━\u001b[0m \u001b[32m58.3/58.3 kB\u001b[0m \u001b[31m3.8 MB/s\u001b[0m eta \u001b[36m0:00:00\u001b[0m\n",
            "\u001b[?25h"
          ]
        }
      ],
      "source": [
        "!pip install langchain -q"
      ]
    },
    {
      "cell_type": "code",
      "execution_count": null,
      "metadata": {
        "colab": {
          "base_uri": "https://localhost:8080/"
        },
        "id": "6hNAJukDix_p",
        "outputId": "5f6767ce-34b6-437e-ba1c-852234c066b7"
      },
      "outputs": [
        {
          "output_type": "stream",
          "name": "stdout",
          "text": [
            "\u001b[?25l     \u001b[90m━━━━━━━━━━━━━━━━━━━━━━━━━━━━━━━━━━━━━━━━\u001b[0m \u001b[32m0.0/67.3 kB\u001b[0m \u001b[31m?\u001b[0m eta \u001b[36m-:--:--\u001b[0m\r\u001b[2K     \u001b[90m━━━━━━━━━━━━━━━━━━━━━━━━━━━━━━━━━━━━━━━━\u001b[0m \u001b[32m67.3/67.3 kB\u001b[0m \u001b[31m2.9 MB/s\u001b[0m eta \u001b[36m0:00:00\u001b[0m\n",
            "\u001b[?25h  Installing build dependencies ... \u001b[?25l\u001b[?25hdone\n",
            "  Getting requirements to build wheel ... \u001b[?25l\u001b[?25hdone\n",
            "  Preparing metadata (pyproject.toml) ... \u001b[?25l\u001b[?25hdone\n",
            "\u001b[2K   \u001b[90m━━━━━━━━━━━━━━━━━━━━━━━━━━━━━━━━━━━━━━━━\u001b[0m \u001b[32m584.3/584.3 kB\u001b[0m \u001b[31m14.0 MB/s\u001b[0m eta \u001b[36m0:00:00\u001b[0m\n",
            "\u001b[2K   \u001b[90m━━━━━━━━━━━━━━━━━━━━━━━━━━━━━━━━━━━━━━━━\u001b[0m \u001b[32m2.4/2.4 MB\u001b[0m \u001b[31m45.0 MB/s\u001b[0m eta \u001b[36m0:00:00\u001b[0m\n",
            "\u001b[2K   \u001b[90m━━━━━━━━━━━━━━━━━━━━━━━━━━━━━━━━━━━━━━━━\u001b[0m \u001b[32m273.8/273.8 kB\u001b[0m \u001b[31m15.1 MB/s\u001b[0m eta \u001b[36m0:00:00\u001b[0m\n",
            "\u001b[2K   \u001b[90m━━━━━━━━━━━━━━━━━━━━━━━━━━━━━━━━━━━━━━━━\u001b[0m \u001b[32m93.2/93.2 kB\u001b[0m \u001b[31m5.7 MB/s\u001b[0m eta \u001b[36m0:00:00\u001b[0m\n",
            "\u001b[2K   \u001b[90m━━━━━━━━━━━━━━━━━━━━━━━━━━━━━━━━━━━━━━━━\u001b[0m \u001b[32m1.7/1.7 MB\u001b[0m \u001b[31m46.2 MB/s\u001b[0m eta \u001b[36m0:00:00\u001b[0m\n",
            "\u001b[2K   \u001b[90m━━━━━━━━━━━━━━━━━━━━━━━━━━━━━━━━━━━━━━━━\u001b[0m \u001b[32m67.6/67.6 kB\u001b[0m \u001b[31m3.8 MB/s\u001b[0m eta \u001b[36m0:00:00\u001b[0m\n",
            "\u001b[2K   \u001b[90m━━━━━━━━━━━━━━━━━━━━━━━━━━━━━━━━━━━━━━━━\u001b[0m \u001b[32m13.2/13.2 MB\u001b[0m \u001b[31m85.1 MB/s\u001b[0m eta \u001b[36m0:00:00\u001b[0m\n",
            "\u001b[2K   \u001b[90m━━━━━━━━━━━━━━━━━━━━━━━━━━━━━━━━━━━━━━━━\u001b[0m \u001b[32m61.5/61.5 kB\u001b[0m \u001b[31m3.7 MB/s\u001b[0m eta \u001b[36m0:00:00\u001b[0m\n",
            "\u001b[2K   \u001b[90m━━━━━━━━━━━━━━━━━━━━━━━━━━━━━━━━━━━━━━━━\u001b[0m \u001b[32m52.5/52.5 kB\u001b[0m \u001b[31m3.2 MB/s\u001b[0m eta \u001b[36m0:00:00\u001b[0m\n",
            "\u001b[2K   \u001b[90m━━━━━━━━━━━━━━━━━━━━━━━━━━━━━━━━━━━━━━━━\u001b[0m \u001b[32m138.0/138.0 kB\u001b[0m \u001b[31m9.3 MB/s\u001b[0m eta \u001b[36m0:00:00\u001b[0m\n",
            "\u001b[2K   \u001b[90m━━━━━━━━━━━━━━━━━━━━━━━━━━━━━━━━━━━━━━━━\u001b[0m \u001b[32m109.5/109.5 kB\u001b[0m \u001b[31m7.5 MB/s\u001b[0m eta \u001b[36m0:00:00\u001b[0m\n",
            "\u001b[2K   \u001b[90m━━━━━━━━━━━━━━━━━━━━━━━━━━━━━━━━━━━━━━━━\u001b[0m \u001b[32m41.5/41.5 kB\u001b[0m \u001b[31m2.5 MB/s\u001b[0m eta \u001b[36m0:00:00\u001b[0m\n",
            "\u001b[2K   \u001b[90m━━━━━━━━━━━━━━━━━━━━━━━━━━━━━━━━━━━━━━━━\u001b[0m \u001b[32m62.8/62.8 kB\u001b[0m \u001b[31m3.6 MB/s\u001b[0m eta \u001b[36m0:00:00\u001b[0m\n",
            "\u001b[2K   \u001b[90m━━━━━━━━━━━━━━━━━━━━━━━━━━━━━━━━━━━━━━━━\u001b[0m \u001b[32m341.4/341.4 kB\u001b[0m \u001b[31m19.2 MB/s\u001b[0m eta \u001b[36m0:00:00\u001b[0m\n",
            "\u001b[2K   \u001b[90m━━━━━━━━━━━━━━━━━━━━━━━━━━━━━━━━━━━━━━━━\u001b[0m \u001b[32m72.0/72.0 kB\u001b[0m \u001b[31m4.2 MB/s\u001b[0m eta \u001b[36m0:00:00\u001b[0m\n",
            "\u001b[2K   \u001b[90m━━━━━━━━━━━━━━━━━━━━━━━━━━━━━━━━━━━━━━━━\u001b[0m \u001b[32m3.4/3.4 MB\u001b[0m \u001b[31m77.6 MB/s\u001b[0m eta \u001b[36m0:00:00\u001b[0m\n",
            "\u001b[2K   \u001b[90m━━━━━━━━━━━━━━━━━━━━━━━━━━━━━━━━━━━━━━━━\u001b[0m \u001b[32m427.7/427.7 kB\u001b[0m \u001b[31m23.1 MB/s\u001b[0m eta \u001b[36m0:00:00\u001b[0m\n",
            "\u001b[2K   \u001b[90m━━━━━━━━━━━━━━━━━━━━━━━━━━━━━━━━━━━━━━━━\u001b[0m \u001b[32m157.2/157.2 kB\u001b[0m \u001b[31m9.5 MB/s\u001b[0m eta \u001b[36m0:00:00\u001b[0m\n",
            "\u001b[2K   \u001b[90m━━━━━━━━━━━━━━━━━━━━━━━━━━━━━━━━━━━━━━━━\u001b[0m \u001b[32m46.0/46.0 kB\u001b[0m \u001b[31m2.5 MB/s\u001b[0m eta \u001b[36m0:00:00\u001b[0m\n",
            "\u001b[2K   \u001b[90m━━━━━━━━━━━━━━━━━━━━━━━━━━━━━━━━━━━━━━━━\u001b[0m \u001b[32m86.8/86.8 kB\u001b[0m \u001b[31m5.8 MB/s\u001b[0m eta \u001b[36m0:00:00\u001b[0m\n",
            "\u001b[?25h  Building wheel for pypika (pyproject.toml) ... \u001b[?25l\u001b[?25hdone\n"
          ]
        }
      ],
      "source": [
        "!pip install chromadb -q"
      ]
    },
    {
      "cell_type": "code",
      "execution_count": null,
      "metadata": {
        "id": "vEBs2Lskix49"
      },
      "outputs": [],
      "source": [
        "!pip install pdf2image -q"
      ]
    },
    {
      "cell_type": "code",
      "execution_count": null,
      "metadata": {
        "id": "RBBMKeeJjE3K"
      },
      "outputs": [],
      "source": [
        "!pip install pytesseract -q"
      ]
    },
    {
      "cell_type": "code",
      "execution_count": null,
      "metadata": {
        "colab": {
          "base_uri": "https://localhost:8080/"
        },
        "id": "8XgV41TWm62s",
        "outputId": "e2aac285-6ae4-416e-9396-665fd27814ab"
      },
      "outputs": [
        {
          "output_type": "stream",
          "name": "stdout",
          "text": [
            "Reading package lists... Done\n",
            "Building dependency tree... Done\n",
            "Reading state information... Done\n",
            "The following NEW packages will be installed:\n",
            "  poppler-utils\n",
            "0 upgraded, 1 newly installed, 0 to remove and 45 not upgraded.\n",
            "Need to get 186 kB of archives.\n",
            "After this operation, 696 kB of additional disk space will be used.\n",
            "Get:1 http://archive.ubuntu.com/ubuntu jammy-updates/main amd64 poppler-utils amd64 22.02.0-2ubuntu0.5 [186 kB]\n",
            "Fetched 186 kB in 1s (298 kB/s)\n",
            "Selecting previously unselected package poppler-utils.\n",
            "(Reading database ... 123595 files and directories currently installed.)\n",
            "Preparing to unpack .../poppler-utils_22.02.0-2ubuntu0.5_amd64.deb ...\n",
            "Unpacking poppler-utils (22.02.0-2ubuntu0.5) ...\n",
            "Setting up poppler-utils (22.02.0-2ubuntu0.5) ...\n",
            "Processing triggers for man-db (2.10.2-1) ...\n"
          ]
        }
      ],
      "source": [
        "!apt-get install -y poppler-utils"
      ]
    },
    {
      "cell_type": "code",
      "execution_count": null,
      "metadata": {
        "colab": {
          "base_uri": "https://localhost:8080/"
        },
        "id": "4LMrVueNnAoZ",
        "outputId": "4ac7ccc1-1261-425d-ee51-3da6d81488c7"
      },
      "outputs": [
        {
          "output_type": "stream",
          "name": "stdout",
          "text": [
            "\r0% [Working]\r            \rGet:1 http://security.ubuntu.com/ubuntu jammy-security InRelease [129 kB]\n",
            "\r0% [Connecting to archive.ubuntu.com (185.125.190.81)] [1 InRelease 0 B/129 kB 0%] [Connecting to cl\r0% [Waiting for headers] [Connecting to cloud.r-project.org] [Waiting for headers] [Waiting for head\r                                                                                                    \rHit:2 https://developer.download.nvidia.com/compute/cuda/repos/ubuntu2204/x86_64  InRelease\n",
            "Hit:3 http://archive.ubuntu.com/ubuntu jammy InRelease\n",
            "Ign:4 https://r2u.stat.illinois.edu/ubuntu jammy InRelease\n",
            "Get:5 https://r2u.stat.illinois.edu/ubuntu jammy Release [5,713 B]\n",
            "Get:6 https://cloud.r-project.org/bin/linux/ubuntu jammy-cran40/ InRelease [3,626 B]\n",
            "Get:7 http://archive.ubuntu.com/ubuntu jammy-updates InRelease [128 kB]\n",
            "Get:8 https://r2u.stat.illinois.edu/ubuntu jammy Release.gpg [793 B]\n",
            "Get:9 http://security.ubuntu.com/ubuntu jammy-security/main amd64 Packages [2,221 kB]\n",
            "Hit:10 https://ppa.launchpadcontent.net/deadsnakes/ppa/ubuntu jammy InRelease\n",
            "Get:11 http://security.ubuntu.com/ubuntu jammy-security/universe amd64 Packages [1,135 kB]\n",
            "Hit:12 https://ppa.launchpadcontent.net/graphics-drivers/ppa/ubuntu jammy InRelease\n",
            "Get:13 http://security.ubuntu.com/ubuntu jammy-security/restricted amd64 Packages [2,944 kB]\n",
            "Hit:14 https://ppa.launchpadcontent.net/ubuntugis/ppa/ubuntu jammy InRelease\n",
            "Get:15 http://archive.ubuntu.com/ubuntu jammy-backports InRelease [127 kB]\n",
            "Get:16 https://r2u.stat.illinois.edu/ubuntu jammy/main amd64 Packages [2,555 kB]\n",
            "Get:17 https://r2u.stat.illinois.edu/ubuntu jammy/main all Packages [8,223 kB]\n",
            "Get:18 http://archive.ubuntu.com/ubuntu jammy-updates/main amd64 Packages [2,497 kB]\n",
            "Get:19 http://archive.ubuntu.com/ubuntu jammy-updates/restricted amd64 Packages [3,041 kB]\n",
            "Get:20 http://archive.ubuntu.com/ubuntu jammy-updates/universe amd64 Packages [1,424 kB]\n",
            "Fetched 24.4 MB in 4s (6,518 kB/s)\n",
            "Reading package lists... Done\n",
            "W: Skipping acquire of configured file 'main/source/Sources' as repository 'https://r2u.stat.illinois.edu/ubuntu jammy InRelease' does not seem to provide it (sources.list entry misspelt?)\n",
            "Reading package lists... Done\n",
            "Building dependency tree... Done\n",
            "Reading state information... Done\n",
            "The following additional packages will be installed:\n",
            "  tesseract-ocr-eng tesseract-ocr-osd\n",
            "The following NEW packages will be installed:\n",
            "  tesseract-ocr tesseract-ocr-eng tesseract-ocr-osd\n",
            "0 upgraded, 3 newly installed, 0 to remove and 47 not upgraded.\n",
            "Need to get 4,816 kB of archives.\n",
            "After this operation, 15.6 MB of additional disk space will be used.\n",
            "Get:1 http://archive.ubuntu.com/ubuntu jammy/universe amd64 tesseract-ocr-eng all 1:4.00~git30-7274cfa-1.1 [1,591 kB]\n",
            "Get:2 http://archive.ubuntu.com/ubuntu jammy/universe amd64 tesseract-ocr-osd all 1:4.00~git30-7274cfa-1.1 [2,990 kB]\n",
            "Get:3 http://archive.ubuntu.com/ubuntu jammy/universe amd64 tesseract-ocr amd64 4.1.1-2.1build1 [236 kB]\n",
            "Fetched 4,816 kB in 1s (4,268 kB/s)\n",
            "Selecting previously unselected package tesseract-ocr-eng.\n",
            "(Reading database ... 123625 files and directories currently installed.)\n",
            "Preparing to unpack .../tesseract-ocr-eng_1%3a4.00~git30-7274cfa-1.1_all.deb ...\n",
            "Unpacking tesseract-ocr-eng (1:4.00~git30-7274cfa-1.1) ...\n",
            "Selecting previously unselected package tesseract-ocr-osd.\n",
            "Preparing to unpack .../tesseract-ocr-osd_1%3a4.00~git30-7274cfa-1.1_all.deb ...\n",
            "Unpacking tesseract-ocr-osd (1:4.00~git30-7274cfa-1.1) ...\n",
            "Selecting previously unselected package tesseract-ocr.\n",
            "Preparing to unpack .../tesseract-ocr_4.1.1-2.1build1_amd64.deb ...\n",
            "Unpacking tesseract-ocr (4.1.1-2.1build1) ...\n",
            "Setting up tesseract-ocr-eng (1:4.00~git30-7274cfa-1.1) ...\n",
            "Setting up tesseract-ocr-osd (1:4.00~git30-7274cfa-1.1) ...\n",
            "Setting up tesseract-ocr (4.1.1-2.1build1) ...\n",
            "Processing triggers for man-db (2.10.2-1) ...\n",
            "Reading package lists... Done\n",
            "Building dependency tree... Done\n",
            "Reading state information... Done\n",
            "The following additional packages will be installed:\n",
            "  libarchive-dev libleptonica-dev\n",
            "The following NEW packages will be installed:\n",
            "  libarchive-dev libleptonica-dev libtesseract-dev\n",
            "0 upgraded, 3 newly installed, 0 to remove and 47 not upgraded.\n",
            "Need to get 3,744 kB of archives.\n",
            "After this operation, 16.0 MB of additional disk space will be used.\n",
            "Get:1 http://archive.ubuntu.com/ubuntu jammy-updates/main amd64 libarchive-dev amd64 3.6.0-1ubuntu1.1 [582 kB]\n",
            "Get:2 http://archive.ubuntu.com/ubuntu jammy/universe amd64 libleptonica-dev amd64 1.82.0-3build1 [1,562 kB]\n",
            "Get:3 http://archive.ubuntu.com/ubuntu jammy/universe amd64 libtesseract-dev amd64 4.1.1-2.1build1 [1,600 kB]\n",
            "Fetched 3,744 kB in 1s (3,363 kB/s)\n",
            "Selecting previously unselected package libarchive-dev:amd64.\n",
            "(Reading database ... 123672 files and directories currently installed.)\n",
            "Preparing to unpack .../libarchive-dev_3.6.0-1ubuntu1.1_amd64.deb ...\n",
            "Unpacking libarchive-dev:amd64 (3.6.0-1ubuntu1.1) ...\n",
            "Selecting previously unselected package libleptonica-dev.\n",
            "Preparing to unpack .../libleptonica-dev_1.82.0-3build1_amd64.deb ...\n",
            "Unpacking libleptonica-dev (1.82.0-3build1) ...\n",
            "Selecting previously unselected package libtesseract-dev:amd64.\n",
            "Preparing to unpack .../libtesseract-dev_4.1.1-2.1build1_amd64.deb ...\n",
            "Unpacking libtesseract-dev:amd64 (4.1.1-2.1build1) ...\n",
            "Setting up libleptonica-dev (1.82.0-3build1) ...\n",
            "Setting up libarchive-dev:amd64 (3.6.0-1ubuntu1.1) ...\n",
            "Setting up libtesseract-dev:amd64 (4.1.1-2.1build1) ...\n",
            "Processing triggers for man-db (2.10.2-1) ...\n"
          ]
        }
      ],
      "source": [
        "!apt-get update\n",
        "!apt-get install -y tesseract-ocr\n",
        "!apt-get install -y libtesseract-dev"
      ]
    },
    {
      "cell_type": "code",
      "execution_count": null,
      "metadata": {
        "colab": {
          "base_uri": "https://localhost:8080/"
        },
        "id": "5LW-oLhF8IU-",
        "outputId": "1dc43696-55ba-43c9-f401-bbcd3af6dd06"
      },
      "outputs": [
        {
          "output_type": "stream",
          "name": "stdout",
          "text": [
            "34.148.147.40\n"
          ]
        }
      ],
      "source": [
        "!wget -q -O - ipv4.icanhazip.com"
      ]
    },
    {
      "cell_type": "code",
      "execution_count": null,
      "metadata": {
        "id": "-hOqUNaH8j5w"
      },
      "outputs": [],
      "source": []
    },
    {
      "cell_type": "code",
      "execution_count": null,
      "metadata": {
        "colab": {
          "base_uri": "https://localhost:8080/"
        },
        "id": "Llf13Ld6a4Va",
        "outputId": "493c01b5-1d26-4098-af60-ec47315dd6e3"
      },
      "outputs": [
        {
          "output_type": "stream",
          "name": "stdout",
          "text": [
            "\n",
            "Collecting usage statistics. To deactivate, set browser.gatherUsageStats to false.\n",
            "\u001b[0m\n",
            "\u001b[0m\n",
            "\u001b[34m\u001b[1m  You can now view your Streamlit app in your browser.\u001b[0m\n",
            "\u001b[0m\n",
            "\u001b[34m  Local URL: \u001b[0m\u001b[1mhttp://localhost:8501\u001b[0m\n",
            "\u001b[34m  Network URL: \u001b[0m\u001b[1mhttp://172.28.0.12:8501\u001b[0m\n",
            "\u001b[34m  External URL: \u001b[0m\u001b[1mhttp://34.148.147.40:8501\u001b[0m\n",
            "\u001b[0m\n",
            "your url is: https://major-nails-move.loca.lt\n",
            "2024-08-22 09:37:45.927853: E external/local_xla/xla/stream_executor/cuda/cuda_fft.cc:485] Unable to register cuFFT factory: Attempting to register factory for plugin cuFFT when one has already been registered\n",
            "2024-08-22 09:37:45.973173: E external/local_xla/xla/stream_executor/cuda/cuda_dnn.cc:8454] Unable to register cuDNN factory: Attempting to register factory for plugin cuDNN when one has already been registered\n",
            "2024-08-22 09:37:45.986972: E external/local_xla/xla/stream_executor/cuda/cuda_blas.cc:1452] Unable to register cuBLAS factory: Attempting to register factory for plugin cuBLAS when one has already been registered\n",
            "2024-08-22 09:37:46.031654: I tensorflow/core/platform/cpu_feature_guard.cc:210] This TensorFlow binary is optimized to use available CPU instructions in performance-critical operations.\n",
            "To enable the following instructions: AVX2 FMA, in other operations, rebuild TensorFlow with the appropriate compiler flags.\n",
            "2024-08-22 09:37:47.932340: W tensorflow/compiler/tf2tensorrt/utils/py_utils.cc:38] TF-TRT Warning: Could not find TensorRT\n",
            "2024-08-22 09:37:52.155 Uncaught app exception\n",
            "Traceback (most recent call last):\n",
            "  File \"/usr/local/lib/python3.10/dist-packages/streamlit/runtime/scriptrunner/exec_code.py\", line 85, in exec_func_with_error_handling\n",
            "    result = func()\n",
            "  File \"/usr/local/lib/python3.10/dist-packages/streamlit/runtime/scriptrunner/script_runner.py\", line 576, in code_to_exec\n",
            "    exec(code, module.__dict__)\n",
            "  File \"/content/app.py\", line 116, in <module>\n",
            "    main()\n",
            "  File \"/content/app.py\", line 56, in main\n",
            "    if uploaded_file is not None:\n",
            "NameError: name 'uploaded_file' is not defined\n",
            "2024-08-22 09:38:18.949 Uncaught app exception\n",
            "Traceback (most recent call last):\n",
            "  File \"/usr/local/lib/python3.10/dist-packages/streamlit/runtime/scriptrunner/exec_code.py\", line 85, in exec_func_with_error_handling\n",
            "    result = func()\n",
            "  File \"/usr/local/lib/python3.10/dist-packages/streamlit/runtime/scriptrunner/script_runner.py\", line 576, in code_to_exec\n",
            "    exec(code, module.__dict__)\n",
            "  File \"/content/app.py\", line 116, in <module>\n",
            "    main()\n",
            "  File \"/content/app.py\", line 59, in main\n",
            "    pdf_bytes = uploaded_file.read()  # Read the file contents as bytes\n",
            "AttributeError: 'list' object has no attribute 'read'\n",
            "Insert of existing embedding ID: 1_1\n",
            "Insert of existing embedding ID: 1_2\n",
            "Insert of existing embedding ID: 1_3\n",
            "Insert of existing embedding ID: 1_4\n",
            "Insert of existing embedding ID: 1_5\n",
            "Insert of existing embedding ID: 1_6\n",
            "Insert of existing embedding ID: 1_7\n",
            "Insert of existing embedding ID: 1_8\n",
            "Insert of existing embedding ID: 1_9\n",
            "Insert of existing embedding ID: 1_10\n",
            "Insert of existing embedding ID: 1_11\n",
            "Insert of existing embedding ID: 1_12\n",
            "Insert of existing embedding ID: 1_13\n",
            "Insert of existing embedding ID: 1_14\n",
            "Insert of existing embedding ID: 1_15\n",
            "Insert of existing embedding ID: 1_16\n",
            "Insert of existing embedding ID: 1_17\n",
            "Insert of existing embedding ID: 1_18\n",
            "Insert of existing embedding ID: 1_19\n",
            "Insert of existing embedding ID: 1_20\n",
            "Insert of existing embedding ID: 1_21\n",
            "Insert of existing embedding ID: 1_22\n",
            "Insert of existing embedding ID: 1_23\n",
            "Insert of existing embedding ID: 1_24\n",
            "Insert of existing embedding ID: 1_25\n",
            "Insert of existing embedding ID: 1_26\n",
            "Insert of existing embedding ID: 1_27\n",
            "Insert of existing embedding ID: 1_28\n",
            "Insert of existing embedding ID: 1_29\n",
            "Insert of existing embedding ID: 1_30\n",
            "Insert of existing embedding ID: 1_31\n",
            "Insert of existing embedding ID: 1_32\n",
            "Insert of existing embedding ID: 1_33\n",
            "Insert of existing embedding ID: 1_34\n",
            "Insert of existing embedding ID: 1_35\n",
            "Insert of existing embedding ID: 1_36\n",
            "Insert of existing embedding ID: 1_37\n",
            "Insert of existing embedding ID: 1_38\n",
            "Insert of existing embedding ID: 2_1\n",
            "Insert of existing embedding ID: 2_2\n",
            "Insert of existing embedding ID: 2_3\n",
            "Insert of existing embedding ID: 2_4\n",
            "Insert of existing embedding ID: 2_5\n",
            "Insert of existing embedding ID: 2_6\n",
            "Insert of existing embedding ID: 2_7\n",
            "Insert of existing embedding ID: 2_8\n",
            "Insert of existing embedding ID: 2_9\n",
            "Insert of existing embedding ID: 2_10\n",
            "Insert of existing embedding ID: 2_11\n",
            "Insert of existing embedding ID: 2_12\n",
            "Insert of existing embedding ID: 2_13\n",
            "Insert of existing embedding ID: 2_14\n",
            "Insert of existing embedding ID: 2_15\n",
            "Insert of existing embedding ID: 2_16\n",
            "Insert of existing embedding ID: 2_17\n",
            "Insert of existing embedding ID: 2_18\n",
            "Insert of existing embedding ID: 2_19\n",
            "Insert of existing embedding ID: 2_20\n",
            "Insert of existing embedding ID: 2_21\n",
            "Insert of existing embedding ID: 2_22\n",
            "Insert of existing embedding ID: 2_23\n",
            "Insert of existing embedding ID: 2_24\n",
            "Insert of existing embedding ID: 2_25\n",
            "Insert of existing embedding ID: 2_26\n",
            "Insert of existing embedding ID: 2_27\n",
            "Insert of existing embedding ID: 2_28\n",
            "Insert of existing embedding ID: 2_29\n",
            "Insert of existing embedding ID: 2_30\n",
            "Insert of existing embedding ID: 2_31\n",
            "Insert of existing embedding ID: 2_32\n",
            "Insert of existing embedding ID: 2_33\n",
            "Insert of existing embedding ID: 2_34\n",
            "Insert of existing embedding ID: 2_35\n",
            "Insert of existing embedding ID: 2_36\n",
            "Insert of existing embedding ID: 2_37\n",
            "Insert of existing embedding ID: 2_38\n",
            "Insert of existing embedding ID: 2_39\n",
            "Insert of existing embedding ID: 2_40\n",
            "Insert of existing embedding ID: 2_41\n",
            "Insert of existing embedding ID: 2_42\n",
            "Insert of existing embedding ID: 2_43\n",
            "Insert of existing embedding ID: 2_44\n",
            "Insert of existing embedding ID: 2_45\n",
            "Insert of existing embedding ID: 2_46\n",
            "Insert of existing embedding ID: 2_47\n",
            "Insert of existing embedding ID: 2_48\n",
            "Insert of existing embedding ID: 2_49\n",
            "Insert of existing embedding ID: 2_50\n",
            "Insert of existing embedding ID: 2_51\n",
            "Insert of existing embedding ID: 2_52\n",
            "Insert of existing embedding ID: 2_53\n",
            "Insert of existing embedding ID: 2_54\n",
            "Insert of existing embedding ID: 2_55\n",
            "Insert of existing embedding ID: 2_56\n",
            "Insert of existing embedding ID: 2_57\n",
            "Insert of existing embedding ID: 2_58\n",
            "Insert of existing embedding ID: 2_59\n",
            "Insert of existing embedding ID: 2_60\n",
            "Insert of existing embedding ID: 2_61\n",
            "Insert of existing embedding ID: 2_62\n",
            "Insert of existing embedding ID: 2_63\n",
            "Insert of existing embedding ID: 2_64\n",
            "Insert of existing embedding ID: 2_65\n",
            "Insert of existing embedding ID: 2_66\n",
            "Insert of existing embedding ID: 2_67\n",
            "Insert of existing embedding ID: 2_68\n",
            "Insert of existing embedding ID: 3_1\n",
            "Insert of existing embedding ID: 3_2\n",
            "Insert of existing embedding ID: 3_3\n",
            "Insert of existing embedding ID: 3_4\n",
            "Insert of existing embedding ID: 3_5\n",
            "Insert of existing embedding ID: 3_6\n",
            "Insert of existing embedding ID: 3_7\n",
            "Insert of existing embedding ID: 3_8\n",
            "Insert of existing embedding ID: 3_9\n",
            "Insert of existing embedding ID: 3_10\n",
            "Insert of existing embedding ID: 3_11\n",
            "Insert of existing embedding ID: 3_12\n",
            "Insert of existing embedding ID: 3_13\n",
            "Insert of existing embedding ID: 3_14\n",
            "Insert of existing embedding ID: 3_15\n",
            "Insert of existing embedding ID: 3_16\n",
            "Insert of existing embedding ID: 3_17\n",
            "Insert of existing embedding ID: 3_18\n",
            "Insert of existing embedding ID: 3_19\n",
            "Insert of existing embedding ID: 3_20\n",
            "Insert of existing embedding ID: 3_21\n",
            "Insert of existing embedding ID: 3_22\n",
            "Insert of existing embedding ID: 3_23\n",
            "Insert of existing embedding ID: 3_24\n",
            "Insert of existing embedding ID: 3_25\n",
            "Insert of existing embedding ID: 3_26\n",
            "Insert of existing embedding ID: 3_27\n",
            "Insert of existing embedding ID: 3_28\n",
            "Insert of existing embedding ID: 3_29\n",
            "Insert of existing embedding ID: 3_30\n",
            "Insert of existing embedding ID: 3_31\n",
            "Insert of existing embedding ID: 3_32\n",
            "Insert of existing embedding ID: 3_33\n",
            "Insert of existing embedding ID: 3_34\n",
            "Insert of existing embedding ID: 3_35\n",
            "Insert of existing embedding ID: 3_36\n",
            "Insert of existing embedding ID: 3_37\n",
            "Insert of existing embedding ID: 3_38\n",
            "Add of existing embedding ID: 1_1\n",
            "Add of existing embedding ID: 1_2\n",
            "Add of existing embedding ID: 1_3\n",
            "Add of existing embedding ID: 1_4\n",
            "Add of existing embedding ID: 1_5\n",
            "Add of existing embedding ID: 1_6\n",
            "Add of existing embedding ID: 1_7\n",
            "Add of existing embedding ID: 1_8\n",
            "Add of existing embedding ID: 1_9\n",
            "Add of existing embedding ID: 1_10\n",
            "Add of existing embedding ID: 1_11\n",
            "Add of existing embedding ID: 1_12\n",
            "Add of existing embedding ID: 1_13\n",
            "Add of existing embedding ID: 1_14\n",
            "Add of existing embedding ID: 1_15\n",
            "Add of existing embedding ID: 1_16\n",
            "Add of existing embedding ID: 1_17\n",
            "Add of existing embedding ID: 1_18\n",
            "Add of existing embedding ID: 1_19\n",
            "Add of existing embedding ID: 1_20\n",
            "Add of existing embedding ID: 1_21\n",
            "Add of existing embedding ID: 1_22\n",
            "Add of existing embedding ID: 1_23\n",
            "Add of existing embedding ID: 1_24\n",
            "Add of existing embedding ID: 1_25\n",
            "Add of existing embedding ID: 1_26\n",
            "Add of existing embedding ID: 1_27\n",
            "Add of existing embedding ID: 1_28\n",
            "Add of existing embedding ID: 1_29\n",
            "Add of existing embedding ID: 1_30\n",
            "Add of existing embedding ID: 1_31\n",
            "Add of existing embedding ID: 1_32\n",
            "Add of existing embedding ID: 1_33\n",
            "Add of existing embedding ID: 1_34\n",
            "Add of existing embedding ID: 1_35\n",
            "Add of existing embedding ID: 1_36\n",
            "Add of existing embedding ID: 1_37\n",
            "Add of existing embedding ID: 1_38\n",
            "Add of existing embedding ID: 2_1\n",
            "Add of existing embedding ID: 2_2\n",
            "Add of existing embedding ID: 2_3\n",
            "Add of existing embedding ID: 2_4\n",
            "Add of existing embedding ID: 2_5\n",
            "Add of existing embedding ID: 2_6\n",
            "Add of existing embedding ID: 2_7\n",
            "Add of existing embedding ID: 2_8\n",
            "Add of existing embedding ID: 2_9\n",
            "Add of existing embedding ID: 2_10\n",
            "Add of existing embedding ID: 2_11\n",
            "Add of existing embedding ID: 2_12\n",
            "Add of existing embedding ID: 2_13\n",
            "Add of existing embedding ID: 2_14\n",
            "Add of existing embedding ID: 2_15\n",
            "Add of existing embedding ID: 2_16\n",
            "Add of existing embedding ID: 2_17\n",
            "Add of existing embedding ID: 2_18\n",
            "Add of existing embedding ID: 2_19\n",
            "Add of existing embedding ID: 2_20\n",
            "Add of existing embedding ID: 2_21\n",
            "Add of existing embedding ID: 2_22\n",
            "Add of existing embedding ID: 2_23\n",
            "Add of existing embedding ID: 2_24\n",
            "Add of existing embedding ID: 2_25\n",
            "Add of existing embedding ID: 2_26\n",
            "Add of existing embedding ID: 2_27\n",
            "Add of existing embedding ID: 2_28\n",
            "Add of existing embedding ID: 2_29\n",
            "Add of existing embedding ID: 2_30\n",
            "Add of existing embedding ID: 2_31\n",
            "Add of existing embedding ID: 2_32\n",
            "Add of existing embedding ID: 2_33\n",
            "Add of existing embedding ID: 2_34\n",
            "Add of existing embedding ID: 2_35\n",
            "Add of existing embedding ID: 2_36\n",
            "Add of existing embedding ID: 2_37\n",
            "Add of existing embedding ID: 2_38\n",
            "Add of existing embedding ID: 2_39\n",
            "Add of existing embedding ID: 2_40\n",
            "Add of existing embedding ID: 2_41\n",
            "Add of existing embedding ID: 2_42\n",
            "Add of existing embedding ID: 2_43\n",
            "Add of existing embedding ID: 2_44\n",
            "Add of existing embedding ID: 2_45\n",
            "Add of existing embedding ID: 2_46\n",
            "Add of existing embedding ID: 2_47\n",
            "Add of existing embedding ID: 2_48\n",
            "Add of existing embedding ID: 2_49\n",
            "Add of existing embedding ID: 2_50\n",
            "Add of existing embedding ID: 2_51\n",
            "Add of existing embedding ID: 2_52\n",
            "Add of existing embedding ID: 2_53\n",
            "Add of existing embedding ID: 2_54\n",
            "Add of existing embedding ID: 2_55\n",
            "Add of existing embedding ID: 2_56\n",
            "Add of existing embedding ID: 2_57\n",
            "Add of existing embedding ID: 2_58\n",
            "Add of existing embedding ID: 2_59\n",
            "Add of existing embedding ID: 2_60\n",
            "Add of existing embedding ID: 2_61\n",
            "Add of existing embedding ID: 2_62\n",
            "Add of existing embedding ID: 2_63\n",
            "Add of existing embedding ID: 2_64\n",
            "Add of existing embedding ID: 2_65\n",
            "Add of existing embedding ID: 2_66\n",
            "Add of existing embedding ID: 2_67\n",
            "Add of existing embedding ID: 2_68\n",
            "Add of existing embedding ID: 3_1\n",
            "Add of existing embedding ID: 3_2\n",
            "Add of existing embedding ID: 3_3\n",
            "Add of existing embedding ID: 3_4\n",
            "Add of existing embedding ID: 3_5\n",
            "Add of existing embedding ID: 3_6\n",
            "Add of existing embedding ID: 3_7\n",
            "Add of existing embedding ID: 3_8\n",
            "Add of existing embedding ID: 3_9\n",
            "Add of existing embedding ID: 3_10\n",
            "Add of existing embedding ID: 3_11\n",
            "Add of existing embedding ID: 3_12\n",
            "Add of existing embedding ID: 3_13\n",
            "Add of existing embedding ID: 3_14\n",
            "Add of existing embedding ID: 3_15\n",
            "Add of existing embedding ID: 3_16\n",
            "Add of existing embedding ID: 3_17\n",
            "Add of existing embedding ID: 3_18\n",
            "Add of existing embedding ID: 3_19\n",
            "Add of existing embedding ID: 3_20\n",
            "Add of existing embedding ID: 3_21\n",
            "Add of existing embedding ID: 3_22\n",
            "Add of existing embedding ID: 3_23\n",
            "Add of existing embedding ID: 3_24\n",
            "Add of existing embedding ID: 3_25\n",
            "Add of existing embedding ID: 3_26\n",
            "Add of existing embedding ID: 3_27\n",
            "Add of existing embedding ID: 3_28\n",
            "Add of existing embedding ID: 3_29\n",
            "Add of existing embedding ID: 3_30\n",
            "Add of existing embedding ID: 3_31\n",
            "Add of existing embedding ID: 3_32\n",
            "Add of existing embedding ID: 3_33\n",
            "Add of existing embedding ID: 3_34\n",
            "Add of existing embedding ID: 3_35\n",
            "Add of existing embedding ID: 3_36\n",
            "Add of existing embedding ID: 3_37\n",
            "Add of existing embedding ID: 3_38\n",
            "2024-08-22 09:45:45.963 Uncaught app exception\n",
            "Traceback (most recent call last):\n",
            "  File \"/usr/local/lib/python3.10/dist-packages/streamlit/runtime/scriptrunner/exec_code.py\", line 85, in exec_func_with_error_handling\n",
            "    result = func()\n",
            "  File \"/usr/local/lib/python3.10/dist-packages/streamlit/runtime/scriptrunner/script_runner.py\", line 576, in code_to_exec\n",
            "    exec(code, module.__dict__)\n",
            "  File \"/content/app.py\", line 115, in <module>\n",
            "    main()\n",
            "  File \"/content/app.py\", line 109, in main\n",
            "    source_file = results['metadatas'][i]['source']  # Get the source file from metadata\n",
            "TypeError: list indices must be integers or slices, not str\n",
            "\u001b[34m  Stopping...\u001b[0m\n",
            "^C\n"
          ]
        }
      ],
      "source": [
        "!streamlit run app.py & npx localtunnel --port 8501"
      ]
    },
    {
      "cell_type": "code",
      "execution_count": null,
      "metadata": {
        "id": "d9gk6mDta4QG"
      },
      "outputs": [],
      "source": []
    },
    {
      "cell_type": "code",
      "execution_count": null,
      "metadata": {
        "id": "LJVhvCtTa4Lx"
      },
      "outputs": [],
      "source": [
        "\n"
      ]
    },
    {
      "cell_type": "code",
      "execution_count": null,
      "metadata": {
        "id": "IlowT0t5a4JG"
      },
      "outputs": [],
      "source": []
    },
    {
      "cell_type": "code",
      "execution_count": null,
      "metadata": {
        "id": "8nejilb6a4C7"
      },
      "outputs": [],
      "source": []
    },
    {
      "cell_type": "code",
      "execution_count": null,
      "metadata": {
        "id": "d80PpfqXa3-S"
      },
      "outputs": [],
      "source": []
    },
    {
      "cell_type": "code",
      "execution_count": null,
      "metadata": {
        "id": "ZHNyG1Oca35D"
      },
      "outputs": [],
      "source": []
    },
    {
      "cell_type": "code",
      "execution_count": null,
      "metadata": {
        "id": "3BkGACuHa30_"
      },
      "outputs": [],
      "source": []
    },
    {
      "cell_type": "code",
      "execution_count": null,
      "metadata": {
        "id": "puJ0T4Ffa3yb"
      },
      "outputs": [],
      "source": []
    }
  ],
  "metadata": {
    "colab": {
      "provenance": []
    },
    "kernelspec": {
      "display_name": "Python 3",
      "name": "python3"
    },
    "language_info": {
      "name": "python"
    }
  },
  "nbformat": 4,
  "nbformat_minor": 0
}